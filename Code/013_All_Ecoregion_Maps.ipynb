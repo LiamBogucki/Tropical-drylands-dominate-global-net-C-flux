{
 "cells": [
  {
   "cell_type": "code",
   "execution_count": null,
   "id": "11d18feb",
   "metadata": {},
   "outputs": [],
   "source": [
    "\"\"\"\n",
    "Author: Liam Bogucki\n",
    "Email: lboguck@uwo.ca\n",
    "First Written: Thursday, April 10, 2025\n",
    "Last Modified: Monday, August 18, 2025\n",
    "Program Purpose: To create the map of all of the ecoregions under consideration in our analysis.\n",
    "\"\"\""
   ]
  },
  {
   "cell_type": "code",
   "execution_count": null,
   "id": "e6956bca",
   "metadata": {},
   "outputs": [],
   "source": [
    "#Importing the appropriate libraries\n",
    "import cartopy.crs as ccrs\n",
    "import cartopy.feature as cfeature\n",
    "import numpy as np\n",
    "import matplotlib.pyplot as plt\n",
    "from matplotlib.colors import ListedColormap\n",
    "import math\n",
    "import matplotlib.ticker as mticker\n",
    "from cartopy.mpl.gridliner import LONGITUDE_FORMATTER, LATITUDE_FORMATTER\n",
    "\n",
    "#Making font times\n",
    "plt.rcParams['font.family'] = 'Times New Roman'"
   ]
  },
  {
   "cell_type": "code",
   "execution_count": null,
   "id": "9ed0b0e0",
   "metadata": {},
   "outputs": [],
   "source": [
    "#This block is concerned with the creation of the map of all of the terrestrial ecoregions under consideration\n",
    "ecoregions = np.load(\"wwf_terr_ecos_360_720.npy\")\n",
    "\n",
    "#The number of ecoregions (and water and other land) under consideration\n",
    "print(np.size(np.unique(ecoregions))) #766\n",
    "\n",
    "#Making the ecoregions numbered 0 to n\n",
    "unique_ecoregion = np.unique(ecoregions)\n",
    "for i in range(len(list(unique_ecoregion))):\n",
    "    ecoregions[ecoregions == unique_ecoregion[i]] = i \n",
    "\n",
    "colors = []\n",
    "colorsToUse = [\"#68023F\", \"#008169\", \"#EF0096\", \"#00DCB5\", \"#FFCFE2\", \"#003C86\", \"#9400E6\", \"#009FFA\", \"#FF71FD\", \"#7CFFFA\", \"#6A0213\",\n",
    "                \"#008607\", \"#F60239\", \"#00E307\", \"#FFDC3D\"]\n",
    "colors.append('white') #Adding the white for the water and the unlabelled land first\n",
    "colors.append('white')\n",
    "\n",
    "#Looping though and adding all of the colors to use in a cycle for the global map\n",
    "loopLength = math.ceil(764 / 15)\n",
    "for i in range(loopLength):\n",
    "    for j in range(len(colorsToUse)):\n",
    "        colors.append(colorsToUse[j])\n",
    "\n",
    "#Map and features\n",
    "fig = plt.figure(figsize=(40, 20))\n",
    "ax = plt.axes(projection=ccrs.PlateCarree())\n",
    "ax.add_feature(cfeature.LAND)\n",
    "ax.add_feature(cfeature.OCEAN)\n",
    "ax.add_feature(cfeature.COASTLINE)\n",
    "im = ax.imshow(ecoregions, cmap=ListedColormap(colors), extent=[-180, 180, -90, 90], origin='upper', transform=ccrs.PlateCarree(), interpolation='none')\n",
    "gl = ax.gridlines(crs=ccrs.PlateCarree(), draw_labels=True, linewidth=2, color='gray', alpha=0.5, linestyle='--')\n",
    "gl.ylocator = mticker.FixedLocator([-90, -60, -30, 0, 30, 60, 90])\n",
    "gl.ylabel_style = {'size': 45}\n",
    "gl.xlabel_style = {'size': 45}\n",
    "#Show plot\n",
    "plt.show()\n"
   ]
  }
 ],
 "metadata": {
  "kernelspec": {
   "display_name": "Python 3",
   "language": "python",
   "name": "python3"
  },
  "language_info": {
   "name": "python",
   "version": "3.11.5"
  }
 },
 "nbformat": 4,
 "nbformat_minor": 5
}
