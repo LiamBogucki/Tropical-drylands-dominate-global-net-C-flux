{
 "cells": [
  {
   "cell_type": "code",
   "execution_count": null,
   "id": "0225d996",
   "metadata": {},
   "outputs": [],
   "source": [
    "\"\"\"\n",
    "Author: Liam Bogucki\n",
    "Email: lboguck@uwo.ca\n",
    "First Written: Friday, July 5, 2024\n",
    "Last Modified: Monday, August 18, 2025\n",
    "Program Purpose: To convert the temperature dataset into one that can be used to partion the tropical forest regions as done by Ahlstrohm.\n",
    "\"\"\""
   ]
  },
  {
   "cell_type": "code",
   "execution_count": null,
   "id": "7bd2a912",
   "metadata": {},
   "outputs": [],
   "source": [
    "#Importing the appropriate libraries\n",
    "import matplotlib.pyplot as plt\n",
    "import numpy as np\n",
    "import netCDF4 as nc\n",
    "import xarray as xr\n",
    "\n",
    "# Changing over the font\n",
    "plt.rcParams['font.family'] = 'Times New Roman'"
   ]
  },
  {
   "cell_type": "code",
   "execution_count": null,
   "id": "bcba7f64",
   "metadata": {},
   "outputs": [],
   "source": [
    "#This block of code handles the initial loading of the temperature data and the specific selection of the 2 metre temperature\n",
    "\n",
    "#Loading the temperature data\n",
    "temperature_data = nc.Dataset(\"temp.nc\", \"r\")\n",
    "#Looking at the dataset\n",
    "print(type(temperature_data))\n",
    "print(temperature_data.variables) #The values that are needed are the t2m (2 metre temperature)\n",
    "\n",
    "#Getting the 2m temperature to handle\n",
    "m2_temperature = temperature_data.variables['t2m'][:]\n",
    "#Looking at what the temperature looks like\n",
    "print(np.shape(m2_temperature)) #The dimensions are (1013, 2, 721, 1440) : (months, ERA5||ERA5T, lat, long)"
   ]
  },
  {
   "cell_type": "code",
   "execution_count": null,
   "id": "936c1282",
   "metadata": {},
   "outputs": [],
   "source": [
    "#This block handles the processing of the temperature data down to 3 dimensions (months, lat, long)\n",
    "\n",
    "#Verifying array\n",
    "print(type(m2_temperature)) #Masked numpy array\n",
    "#Merging temperatures down to one dimension for the temperatures\n",
    "dimensions = ['months', 'dataset', 'lat', 'long'] #Labels for dimensions based on retrieved values above\n",
    "m2_temperature = xr.DataArray(m2_temperature, dims=dimensions) #Converting to xarray to merge\n",
    "m2_temperature_new = m2_temperature.reduce(np.nansum, dim='dataset') #Reducing down to 3d array (merge of temp data)\n",
    "\n",
    "#Verifying the new array\n",
    "print(type(m2_temperature_new))\n",
    "print(np.shape(m2_temperature_new)) #Now has dims(1013, 721, 1440)"
   ]
  },
  {
   "cell_type": "code",
   "execution_count": null,
   "id": "f381877e",
   "metadata": {},
   "outputs": [],
   "source": [
    "#This block handles the truncation of the array to match the desired 360x720 required for our analysis\n",
    "\n",
    "#Converting the xarray back to a numpy array for trimming of the bottom par of the array\n",
    "m2_3d_temperature = m2_temperature_new.to_numpy()\n",
    "print(type(m2_3d_temperature)) #verifying is numpy\n",
    "print(np.shape(m2_3d_temperature)) #verifying the dims (1013, 721, 1440)\n",
    "\n",
    "#Since 720 instead of 721 is needed, slicing the bottom of the array off\n",
    "m2_3d_temperature = m2_3d_temperature[:, :-1, :]\n",
    "print(np.shape(m2_3d_temperature)) #verifying the cutoff\n",
    "\n",
    "#Converting the array back to an xarray to average the data to the correct dimensions\n",
    "dimensions = ['months', 'lat', 'long'] #Labels for dimensions based on retrieved values above\n",
    "m2_3d_temperature = xr.DataArray(m2_3d_temperature, dims=dimensions) #Converting to xarray\n",
    "m2_3d_temperature = m2_3d_temperature.coarsen(lat=2, long=2).mean()\n",
    "\n",
    "#Converting back to numpy array and verifying the appearence\n",
    "m2_3d_temperature = m2_3d_temperature.to_numpy()\n",
    "print(type(m2_3d_temperature)) #verifying is numpy\n",
    "print(np.shape(m2_3d_temperature)) #verifying the dims (1013, 360, 720)\n",
    "plt.imshow(m2_temperature_new[10][:][:])#looking at what the temperature looks like for a random month (notice that will need to role below)"
   ]
  },
  {
   "cell_type": "code",
   "execution_count": null,
   "id": "f18dbf05",
   "metadata": {},
   "outputs": [],
   "source": [
    "# This block handles the rolling of the array such that the layout of the map aligns with the MODIS data (and save as the new temp dataset)\n",
    "\n",
    "#Rolling the array to have it align with the MODIS data that has already been processed\n",
    "m2_3d_temperature = np.roll(m2_3d_temperature, shift=-359, axis=2) #rolling the longitude to align with MODIS layout (Plate Carree)\n",
    "\n",
    "#Verifying the MODIS and temp overlap is correct\n",
    "data_modis = np.load(\"Modis_0.5Deg_Type3_Mode.npy\")\n",
    "print(np.shape(data_modis))\n",
    "temp = m2_3d_temperature[10,:,:] # Randomly using the 10th month to compare to\n",
    "temp[data_modis ==  0] = 999 # Removing the water area to see alignment\n",
    "print(np.shape(temp))\n",
    "plt.imshow(temp) #Can see that the map looks as it should\n",
    "plt.show()\n",
    "\n",
    "#Removing the water from all of the months and saving as the temp array\n",
    "data_modis_3d = np.tile(data_modis, (1013, 1, 1))\n",
    "m2_3d_temperature[data_modis_3d==0] = np.nan #Setting to nan where water based on the modis data == 0\n",
    "np.save('temp_data_monthly.npy', m2_3d_temperature) #saving for further use in our analysis\n",
    "\n",
    "#Final verification of the layout that we will use\n",
    "plt.imshow(data_modis_3d[0, :, :])"
   ]
  }
 ],
 "metadata": {
  "kernelspec": {
   "display_name": "Python 3",
   "language": "python",
   "name": "python3"
  },
  "language_info": {
   "name": "python",
   "version": "3.11.5"
  }
 },
 "nbformat": 4,
 "nbformat_minor": 5
}
