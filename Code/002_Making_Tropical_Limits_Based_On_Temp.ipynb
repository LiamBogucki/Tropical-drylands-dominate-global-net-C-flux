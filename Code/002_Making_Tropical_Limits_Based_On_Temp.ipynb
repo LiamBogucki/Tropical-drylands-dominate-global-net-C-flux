{
 "cells": [
  {
   "cell_type": "code",
   "execution_count": null,
   "id": "b84ba0cd",
   "metadata": {},
   "outputs": [],
   "source": [
    "\"\"\"\n",
    "Author: Liam Bogucki\n",
    "Email: lboguck@uwo.ca\n",
    "First Written: Friday, June 28, 2024 \n",
    "Last Modified: Monday, August 18, 2025\n",
    "Program Purpose: To use the monthly mean temperature data to create the tropical region as defined using Ahlstorhm's original paper's methodology.\n",
    "\"\"\""
   ]
  },
  {
   "cell_type": "code",
   "execution_count": null,
   "id": "3027cc7a",
   "metadata": {},
   "outputs": [],
   "source": [
    "#Importing appropriate libraries\n",
    "import numpy as np\n",
    "import matplotlib.pyplot as plt\n",
    "\n",
    "# Changing over the font\n",
    "plt.rcParams['font.family'] = 'Times New Roman'"
   ]
  },
  {
   "cell_type": "code",
   "execution_count": null,
   "id": "d6908685",
   "metadata": {},
   "outputs": [],
   "source": [
    "#This block of code creates a new numpy array that is reflective of the defintions used in Ahlstorhm's original paper\n",
    "\n",
    "#Loading the temperature data\n",
    "temperature_data = np.load(\"temp_data_monthly.npy\")\n",
    "print(np.shape(temperature_data)) #reminder of the shape of the data (1013, 360, 720)\n",
    "\n",
    "#The threshold specified is 18C which is == 291.15K which is the temp units for the monthly temperature data being used\n",
    "temperature_data[temperature_data < 291.15] = 0 #Making all instances of the temperature being under 18 as 0, with >= 18 being left as normal\n",
    "print(np.shape(temperature_data)) #verifying shape is unchanged by masking\n",
    "\n",
    "#Populating an empty array with whether it could be a tropical region or not\n",
    "new_temperature_array = np.zeros((360,720))\n",
    "for i in range(360):\n",
    "    for j in range(720):\n",
    "        #If there is a zero, that means the temp was below 18 for a month, and it is not tropical\n",
    "        temp_array = temperature_data[:, i, j]\n",
    "        if np.all(temp_array != 0):\n",
    "            new_temperature_array[i, j] = 1\n",
    "        #else, the temp has not been below 18, and it can be a tropical region\n",
    "        else:\n",
    "            new_temperature_array[i, j] = 0\n",
    "\n",
    "#Verifying the new array of temps representing only those regions with a temp > 18\n",
    "plt.imshow(new_temperature_array)\n",
    "plt.colorbar()\n",
    "plt.show()\n",
    "\n",
    "#Now masking out the water using the MODIS dataset to be left with only those regions to form the tropical forest region\n",
    "data_modis = np.load(\"Modis_0.5Deg_Type3_Mode.npy\")\n",
    "new_temperature_array[data_modis == 0] = 0 #making the water 0 as well as all of the land that is not tropical forest\n",
    "#Plot to verify\n",
    "plt.imshow(new_temperature_array)\n",
    "plt.colorbar()\n",
    "plt.show()\n",
    "\n",
    "#Now 1 == tropical and 0 == non-tropical\n",
    "np.save(\"1=tropical_0=not_monthly_temps_1940-now.npy\", new_temperature_array)"
   ]
  }
 ],
 "metadata": {
  "language_info": {
   "name": "python"
  }
 },
 "nbformat": 4,
 "nbformat_minor": 5
}
