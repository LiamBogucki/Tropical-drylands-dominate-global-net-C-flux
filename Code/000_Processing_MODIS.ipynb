{
 "cells": [
  {
   "cell_type": "code",
   "execution_count": null,
   "id": "705da46b",
   "metadata": {},
   "outputs": [],
   "source": [
    "\"\"\"\n",
    "Author: Liam Bogucki\n",
    "Email: lboguck@uwo.ca\n",
    "First Written: Tuesday, June 7, 2024\n",
    "Last Modified: Sunday, September 14, 2025\n",
    "Program Purpose: To process the MODIS data into a useable 0.5 degree dataset.\n",
    "\"\"\""
   ]
  },
  {
   "cell_type": "code",
   "execution_count": null,
   "id": "d42aeb7c",
   "metadata": {},
   "outputs": [],
   "source": [
    "# Importing appropriate libraries.\n",
    "import numpy as np\n",
    "import matplotlib.pyplot as plt\n",
    "from pyhdf.SD import SD, SDC\n",
    "import scipy.stats as stats"
   ]
  },
  {
   "cell_type": "code",
   "execution_count": null,
   "id": "bec2bb8a",
   "metadata": {},
   "outputs": [],
   "source": [
    "#The purpose of this block is to process the hdf file into a numpy array\n",
    "\n",
    "#Opening the MODIS file to read\n",
    "hdf = SD(\"MCD12C1.hdf\", SDC.READ)\n",
    "\n",
    "#Reading the datasets in from the opened hdf\n",
    "dict_datasets = hdf.datasets()\n",
    "\n",
    "#Listing the datasets to investigate the parts\n",
    "i = 0\n",
    "for key in dict_datasets:\n",
    "    info = hdf.select(key)\n",
    "    print(f\"({i}){key} : attributes:{info.attributes()}\")\n",
    "    i+=1\n",
    "\n",
    "\n",
    "# Selecting the 6th dataset gets us the same data as used by Ahlstrom (Modis type 3 majority land cover type).\n",
    "dataset = list(dict_datasets.keys())[6]\n",
    "modis_dataset = hdf.select(dataset)\n",
    "modis_data = modis_dataset.get()\n",
    "\n",
    "#Investigating the dimensions of the data to decide how to resize it (conducted below)\n",
    "print(np.shape(modis_data))"
   ]
  },
  {
   "cell_type": "code",
   "execution_count": null,
   "id": "2946788a",
   "metadata": {},
   "outputs": [],
   "source": [
    "#This block is concerend with getting the desired 0.5 degree resolution of the data from the existing (3600, 7200)\n",
    "\n",
    "#Reshaping the array down to the correct size to chunk it (10x10)\n",
    "modis_data_reshaped = modis_data.reshape(360, 10, 720, 10)\n",
    "\n",
    "#Transposing to place 360, 720 in front\n",
    "modis_data_transposed = modis_data_reshaped.transpose(0, 2, 1, 3)\n",
    "\n",
    "#Reshaping to correct shape to get mode data from chunks\n",
    "modis_data_reshaped = modis_data_transposed.reshape(360, 720, -1)\n",
    "\n",
    "#Getting the mode value for the grid cells\n",
    "modis_data_mode = stats.mode(modis_data_reshaped, axis=-1)[0]\n",
    "\n",
    "#Verifying the map and the values\n",
    "print(np.shape(modis_data_mode)) #The shape\n",
    "print(np.unique(modis_data_mode)) #The unique values\n",
    "plt.imshow(modis_data_mode) #Plot to verify the look\n",
    "plt.colorbar()\n",
    "plt.show()\n",
    "\n",
    "#Saving as npy array for later use\n",
    "np.save(\"MODIS_0.5Deg_Type3_Mode.npy\", modis_data_mode)\n",
    "\n"
   ]
  }
 ],
 "metadata": {
  "kernelspec": {
   "display_name": "Python 3",
   "language": "python",
   "name": "python3"
  },
  "language_info": {
   "name": "python",
   "version": "3.11.5"
  }
 },
 "nbformat": 4,
 "nbformat_minor": 5
}
