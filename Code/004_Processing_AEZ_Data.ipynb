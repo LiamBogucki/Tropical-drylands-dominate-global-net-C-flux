{
 "cells": [
  {
   "cell_type": "code",
   "execution_count": null,
   "id": "d5ff6d1d",
   "metadata": {},
   "outputs": [],
   "source": [
    "\"\"\"\n",
    "Author: Liam Bogucki\n",
    "Email: lboguck@uwo.ca\n",
    "First Written: Wednesday, November 13, 2024\n",
    "Last Modified: Tuesday, August 12, 2025\n",
    "Program Purpose: To process the AEZ data such that the map produced can be used for IAV calculations later\n",
    "\"\"\""
   ]
  },
  {
   "cell_type": "code",
   "execution_count": null,
   "id": "33161989",
   "metadata": {},
   "outputs": [],
   "source": [
    "# Importing appropriate libraries.\n",
    "import numpy as np\n",
    "import rasterio\n",
    "import matplotlib.pyplot as plt\n",
    "import scipy.stats as stats\n",
    "# Changing over the font\n",
    "plt.rcParams['font.family'] = 'Times New Roman'"
   ]
  },
  {
   "cell_type": "code",
   "execution_count": null,
   "id": "373c41bd",
   "metadata": {},
   "outputs": [],
   "source": [
    "#Loading in the tif file\n",
    "with rasterio.open('aez_v9v2_ENSEMBLE_rcp2p6_2020s.tif') as file:\n",
    "    data = file.read(1)\n",
    "\n",
    "# The shape of the array\n",
    "print(data.shape)\n",
    "\n",
    "# Collapsing the array into the appropriate 360,720 size\n",
    "array = data.reshape(360, 60, 720, 60)\n",
    "\n",
    "#Getting mode of what the value should be in each gridcell\n",
    "rescaled_array = (stats.mode(array, axis=(1,3), keepdims=False)).mode\n",
    "\n",
    "#Verifying the shape of 360,70\n",
    "print(np.shape(rescaled_array))\n",
    "\n",
    "# These values to keep are based off of the UN AEZ numbering provided on page 153/154 of the AEZ document (See citation in paper)\n",
    "# Going off of the PANGEA regions of lowland humid tropcis with no terrain limits 5, and with terrain limits 6, hihland humid tropics without terrain limits 11, and with terrain limits 12\n",
    "# Also including 52 for the dominantly hydromorphic soils\n",
    "# I am not including the category of land with severe soil/terrain limitations as there is no good way for me to remove these regions with the specificity given by PANGEA\n",
    "rescaled_array[(rescaled_array != 5) & (rescaled_array != 6) & (rescaled_array != 11) & (rescaled_array != 12) & (rescaled_array != 52)] = 0\n",
    "\n",
    "# Cuttting down our regions to be within the scop of the tropical lines used by PANGEA, that is, within the tropic of cancer and capricorn\n",
    "# Since 0.5deg scale the tropical bounds will be 180+ 47 and 180-47...roughly\n",
    "tropic_cancer = 180 - 47\n",
    "tropic_capricorn = 180 +47\n",
    "# Masking out the array outside the tropics by first setting to 0, and then masking anyhting that is equal to 0\n",
    "rescaled_array[:tropic_cancer,:] = 0\n",
    "rescaled_array[tropic_capricorn+1:,:] = 0\n",
    "rescaled_array = np.ma.masked_equal(rescaled_array, 0) #masking out where 0\n",
    "\n",
    "#Saving the plot\n",
    "np.save('aez_tropical_PANGEA.npy', rescaled_array.data)\n",
    "\n"
   ]
  },
  {
   "cell_type": "code",
   "execution_count": null,
   "id": "b72aeb8e",
   "metadata": {},
   "outputs": [],
   "source": [
    "#Printing what the rescaled array looks like\n",
    "plt.imshow(rescaled_array)\n",
    "plt.colorbar()"
   ]
  }
 ],
 "metadata": {
  "language_info": {
   "name": "python"
  }
 },
 "nbformat": 4,
 "nbformat_minor": 5
}
