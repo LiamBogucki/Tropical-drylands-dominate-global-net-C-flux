{
 "cells": [
  {
   "cell_type": "code",
   "execution_count": null,
   "id": "284f00a5",
   "metadata": {},
   "outputs": [],
   "source": [
    "\"\"\"\n",
    "Author: Liam Bogucki\n",
    "Email: lboguck@uwo.ca\n",
    "First Written: Monday, July 21, 2025\n",
    "Last Modified: Monday, September 15, 2025\n",
    "Program Purpose: To conduct bootstrapping to find the 99% CIs between the dryland and tropical regions of the different biomes.\n",
    "\"\"\""
   ]
  },
  {
   "cell_type": "code",
   "execution_count": null,
   "id": "4a0f70af",
   "metadata": {},
   "outputs": [],
   "source": [
    "#Importing the appropriate libraries\n",
    "import numpy as np\n",
    "import random"
   ]
  },
  {
   "cell_type": "code",
   "execution_count": null,
   "id": "c354f845",
   "metadata": {},
   "outputs": [],
   "source": [
    "\n",
    "#These are the IAV contribution values of the biomes already calculated earlier in the analysis\n",
    "Dryland_KG = [33.91449145724765, 40.80176463246124, 22.820534401223615, 48.63810117831573, 40.74145799265495, 46.3541132943301, 38.49771964890616, 42.60651601356978, 30.876885068643873, 32.166391953851935, 40.52266443851911, 37.80057441637251, 37.59950232161869, 55.02466405455674, 43.715424280293355, 42.02757160676393, 53.980953171785195, 45.96965842484905]\n",
    "Tropical_KG = [12.546408268021079, 28.279882925393547, 19.79055935713993, 19.669876995614775, 13.957535357183895, 20.314306511086016, 9.534030631709362, 19.60330903951529, 24.28379043346229, 27.551799916851238, 13.855423408240714, 24.34339430560562, 17.586067160472368, 13.366847843563804, 24.77015679889852, 23.82319042668141, 5.068962932069448, 31.58738228941806]\n",
    "Dryland_MODIS = [30.079648711260422, 29.183038759827518, 33.7086501350002, 35.797240703213895, 32.323975796636624, 34.85702550999578, 28.994568202802952, 30.275380668322043, 30.720902282252332, 28.34173539927476, 31.464625150427494, 37.024851087793785, 30.305649183323375, 36.04619044511047, 35.40442649092434, 35.96870785000391, 35.20534399369858, 30.802084177012574]\n",
    "Tropical_MODIS = [15.918163390224665, 29.538428536781687, 17.66509145162553, 19.30370236736483, 13.924183423953828, 19.864423496305466, 10.63501077020704, 22.902620166306807, 19.493167425307252, 22.55725747531717, 13.518883308364002, 23.88525942279727, 14.277988252173971, 12.181895702774735, 20.455551903769347, 23.365900859519293, 5.220791372048696, 31.794490614481084]\n",
    "Dryland_ARID = [26.777731516577497, 36.357484793620685, 15.355249316189322, 48.853181982357256, 38.6018209223423, 31.242042018601385, 44.592815916078166, 39.633614521013286, 33.93246037913697, 32.72074204655157, 35.725778331718274, 43.962556037798684, 40.8947766570473, 60.648076433103085, 49.0608123330452, 32.07783595244605, 68.43347039315847, 26.171831526686123]\n",
    "Tropical_AEZ = [21.119993389529142, 30.76150094711561, 24.443056606966852, 22.118356790204672, 17.027883072694035, 24.28329198146968, 14.729886165050448, 24.731738814234173, 25.367229209462643, 27.61392970611829, 19.72996674666615, 25.105067760557574, 20.35838742503671, 15.344584968311828, 23.67846977365449, 26.750081137045168, 8.902429725289023, 37.115474238979154]\n",
    "\n",
    "\n"
   ]
  },
  {
   "cell_type": "code",
   "execution_count": null,
   "id": "25d32f9a",
   "metadata": {},
   "outputs": [],
   "source": [
    "# The bootstrap function\n",
    "\n",
    "def bootstrap(list1, list2):\n",
    "    import numpy as np\n",
    "    import random\n",
    "    #The true median\n",
    "    true_median = np.median(list1) - np.median(list2)\n",
    "    #List to save the median contribution differences based on the bootstrapping\n",
    "    all_median_differences = []\n",
    "    #Running the bootstrap x number of times\n",
    "    for i in range(50000):\n",
    "        #Doing the random picking\n",
    "        list1_values = []\n",
    "        list2_values = []\n",
    "        for j in range(18):\n",
    "            random_number = random.randint(0,17)\n",
    "            list1_values.append(list1[random_number])\n",
    "            list2_values.append(list2[random_number])\n",
    "        #Calculating the difference between for this iteration\n",
    "        all_median_differences.append(np.median(list1_values) - np.median(list2_values))\n",
    "    \n",
    "    #Getting the confidence interval\n",
    "    lower = np.percentile(all_median_differences - true_median, 0.5)\n",
    "    upper = np.percentile(all_median_differences - true_median, 99.5)\n",
    "    print(f\"Lower:{round(true_median - upper,2)} and Upper:{round(true_median - lower,2)} CI 99%\")\n"
   ]
  },
  {
   "cell_type": "code",
   "execution_count": null,
   "id": "6e5fd469",
   "metadata": {},
   "outputs": [],
   "source": [
    "#Calculating the true difference between the median values of the dryland and tropical median values\n",
    "\n",
    "print(f\"The Koppen dryland and tropical:\")\n",
    "bootstrap(Dryland_KG, Tropical_KG)\n",
    "\n",
    "print(f\"\\nThe MODIS dryland and tropical:\")\n",
    "bootstrap(Dryland_MODIS, Tropical_MODIS)\n",
    "\n",
    "print(f\"\\nThe AI & AEZ dryland and tropical:\")\n",
    "bootstrap(Dryland_ARID, Tropical_AEZ)\n"
   ]
  }
 ],
 "metadata": {
  "kernelspec": {
   "display_name": "Python 3",
   "language": "python",
   "name": "python3"
  },
  "language_info": {
   "name": "python",
   "version": "3.11.5"
  }
 },
 "nbformat": 4,
 "nbformat_minor": 5
}
