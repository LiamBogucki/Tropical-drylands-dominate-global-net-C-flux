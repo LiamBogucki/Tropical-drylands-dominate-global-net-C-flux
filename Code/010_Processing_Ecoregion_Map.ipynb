{
 "cells": [
  {
   "cell_type": "code",
   "execution_count": null,
   "id": "043446ba",
   "metadata": {},
   "outputs": [],
   "source": [
    "\"\"\"\n",
    "Author: Liam Bogucki\n",
    "Email: lboguck@uwo.ca\n",
    "First Written: Thursday, August 22, 2024\n",
    "Last Modified: Tuesday, August 12, 2025\n",
    "Program Purpose: To process the ecoregion file into an array to be used with the IAV calculations.\n",
    "\"\"\""
   ]
  },
  {
   "cell_type": "code",
   "execution_count": null,
   "id": "416c8fa6",
   "metadata": {},
   "outputs": [],
   "source": [
    "#Importing appropriate libraries\n",
    "import numpy as np\n",
    "import matplotlib.pyplot as plt\n",
    "import geopandas\n",
    "import rasterio\n",
    "from rasterio import features\n",
    "# Changing over the font\n",
    "plt.rcParams['font.family'] = 'Times New Roman'"
   ]
  },
  {
   "cell_type": "code",
   "execution_count": null,
   "id": "37e67fc2",
   "metadata": {},
   "outputs": [],
   "source": [
    "#This block handles the investigation of what the ecoregions file looks in order to be able to convert the file\n",
    "\n",
    "#Reading the file\n",
    "ecoregions = geopandas.read_file('wwf_terr_ecos.shp')\n",
    "#Investigating the file\n",
    "print(ecoregions)\n",
    "#Seeing what the map looks like\n",
    "ecoregions.plot(figsize=(40,20))"
   ]
  },
  {
   "cell_type": "code",
   "execution_count": null,
   "id": "c01b0046",
   "metadata": {},
   "outputs": [],
   "source": [
    "# This block handles the conversion to a numpy array\n",
    "\n",
    "#Converting the shapefile to the correct projection (Plate-Carree)\n",
    "ecoregions.to_crs(crs=\"EPSG:4087\") \n",
    "ecoregions['ECO_ID'] = ecoregions['ECO_ID'].astype(int)\n",
    "\n",
    "# Getting the bounds of the shapefile\n",
    "bounds = ecoregions.total_bounds\n",
    "print(bounds) #Verifying the bounds: minx, miny, maxx, and maxy\n",
    "minx = bounds[0]\n",
    "miny = bounds[1]\n",
    "maxx = bounds[2]\n",
    "maxy = bounds[3]\n",
    "\n",
    "#Calculating the width, height, and aspect ratio to get the correct transformation\n",
    "width = maxx - minx\n",
    "height = maxy - miny\n",
    "aspect_ratio = width / height\n",
    "print(f\"{width}, {height}, {aspect_ratio}\") #~~~360, ~~~173.5, ~~~2.07\n",
    "\n",
    "# Getting desired height based on the width\n",
    "desired_width = 720\n",
    "temp_height = int(desired_width / aspect_ratio)\n",
    "print(temp_height) #347 (will need to stack 13 at the bottom to get 360)\n",
    "\n",
    "# Getting resolution to make desired size\n",
    "resolution_x = width / desired_width\n",
    "resolution_y = height / temp_height\n",
    "\n",
    "# Creating an affine transformation matrix\n",
    "affine_transformation = rasterio.transform.from_origin(minx, maxy, resolution_x, resolution_y)\n",
    "\n",
    "#Making a list of the shape and eco_id as tuples to feed into the rasterize below\n",
    "shapes_tuples = []\n",
    "for geometry, eco_id in zip(ecoregions.geometry, ecoregions['ECO_ID']):\n",
    "    shapes_tuples.append((geometry, eco_id))\n",
    "\n",
    "# Creating the array of ecoregions on the map with the associated ecoregion ID value\n",
    "raster = features.rasterize(shapes=shapes_tuples, out_shape=(temp_height, desired_width), fill=0, transform=affine_transformation, dtype='int32')\n",
    "\n",
    "#Stacking the array so that it is the correct height (need to be 360,720 to work with the other arrays)\n",
    "raster = np.vstack((np.zeros((13, 720)), raster))\n",
    "\n",
    "#Sacing the array\n",
    "np.save('wwf_terr_ecos_360_720.npy', raster)\n",
    "\n",
    "#Printing what the array looks like now and the dimensions\n",
    "plt.subplots(figsize=(80,40))\n",
    "plt.imshow(raster, cmap=\"Blues\")\n",
    "print(type(raster))\n",
    "print(np.shape(raster))\n"
   ]
  },
  {
   "cell_type": "code",
   "execution_count": null,
   "id": "f33e997a",
   "metadata": {},
   "outputs": [],
   "source": [
    "#This block is concerned with verifying what the alignment of the ecoregion and MODIS maps look like\n",
    "\n",
    "#Verifying the alignment with the MODIS data\n",
    "temp_array = np.load(\"MODIS_Map.npy\")\n",
    "temp_array[((temp_array == 0) & (raster != 0)) | ((temp_array != 0) & (raster == 0))] = 99\n",
    "\n",
    "#Everywhere that is yellow shows where there is a gridcell that is not correctly aligned between the ecoregions and the MODIS maps (can see that it is minimal)\n",
    "plt.subplots(figsize=(80,40))\n",
    "plt.imshow(temp_array, interpolation=None)\n",
    "plt.colorbar()"
   ]
  }
 ],
 "metadata": {
  "language_info": {
   "name": "python"
  }
 },
 "nbformat": 4,
 "nbformat_minor": 5
}
